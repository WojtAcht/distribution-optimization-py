{
 "cells": [
  {
   "cell_type": "code",
   "execution_count": null,
   "metadata": {},
   "outputs": [],
   "source": [
    "import pandas as pd\n",
    "from pflacco.classical_ela_features import *\n",
    "from pflacco.sampling import create_initial_sample\n",
    "from umap import UMAP\n",
    "from experiments.datasets import DATASETS\n",
    "from distribution_optimization_py.problem import ScaledGaussianMixtureProblemForELA\n",
    "\n",
    "def get_ela_features(problem):\n",
    "    dim = len(problem.lower)\n",
    "    X = create_initial_sample(dim, lower_bound=-5, upper_bound=5)\n",
    "    y = X.apply(lambda x: problem(x), axis=1)\n",
    "    ela_meta = calculate_ela_meta(X, y)\n",
    "    ela_distr = calculate_ela_distribution(X, y)\n",
    "    ela_level = calculate_ela_level(X, y)\n",
    "    nbc = calculate_nbc(X, y)\n",
    "    disp = calculate_dispersion(X, y)\n",
    "    ic = calculate_information_content(X, y, seed=100)\n",
    "\n",
    "    return pd.DataFrame(\n",
    "        {\n",
    "            **ic,\n",
    "            **ela_meta,\n",
    "            **ela_distr,\n",
    "            **nbc,\n",
    "            **disp,\n",
    "            **ela_level,\n",
    "            **{\"dim\": dim},\n",
    "        },\n",
    "        index=[0],\n",
    "    )\n",
    "\n",
    "def calculate_gaussian_ela_features() -> None:\n",
    "    ela_features_dfs = []\n",
    "    for dataset in DATASETS:\n",
    "        problem = ScaledGaussianMixtureProblemForELA(dataset.data, dataset.nr_of_modes)\n",
    "        ela_features_df = get_ela_features(problem)\n",
    "        ela_features_df[\"fid\"] = dataset.name\n",
    "        ela_features_df[\"iid\"] = 1\n",
    "        ela_features_dfs.append(ela_features_df)\n",
    "    pd.concat(ela_features_dfs).to_csv(\"gaussian_ela_features.csv\", index=False)"
   ]
  },
  {
   "cell_type": "code",
   "execution_count": null,
   "metadata": {},
   "outputs": [],
   "source": [
    "gaussian_features_df = pd.read_csv(\"gaussian_ela_features.csv\", index_col=0)"
   ]
  },
  {
   "cell_type": "code",
   "execution_count": null,
   "metadata": {},
   "outputs": [],
   "source": [
    "bbob_features_df = pd.read_csv(\"ela_features.csv\", index_col=None)"
   ]
  },
  {
   "cell_type": "code",
   "execution_count": null,
   "metadata": {},
   "outputs": [],
   "source": [
    "PROBLEM_CLASSES = [\n",
    "    \"separable\",\n",
    "    \"separable\",\n",
    "    \"separable\",\n",
    "    \"separable\",\n",
    "    \"separable\",\n",
    "    \"low-conditioning\",\n",
    "    \"low-conditioning\",\n",
    "    \"low-conditioning\",\n",
    "    \"low-conditioning\",\n",
    "    \"unimodal\",\n",
    "    \"unimodal\",\n",
    "    \"unimodal\",\n",
    "    \"unimodal\",\n",
    "    \"unimodal\",\n",
    "    \"multimodal-adequate\",\n",
    "    \"multimodal-adequate\",\n",
    "    \"multimodal-adequate\",\n",
    "    \"multimodal-adequate\",\n",
    "    \"multimodal-adequate\",\n",
    "    \"multimodal-weak\",\n",
    "    \"multimodal-weak\",\n",
    "    \"multimodal-weak\",\n",
    "    \"multimodal-weak\",\n",
    "    \"multimodal-weak\",\n",
    "]\n",
    "\n",
    "\n",
    "def get_problem_class(fid: str | int) -> str:\n",
    "    if isinstance(fid, int):\n",
    "        return PROBLEM_CLASSES[fid - 1]\n",
    "    return \"distribution-optimization\"\n",
    "\n",
    "\n",
    "all_features_df = pd.concat([bbob_features_df, gaussian_features_df])\n",
    "all_features_df[\"class\"] = [get_problem_class(fid) for fid in all_features_df[\"fid\"]]"
   ]
  },
  {
   "cell_type": "markdown",
   "metadata": {},
   "source": [
    "UMAP visualization:"
   ]
  },
  {
   "cell_type": "code",
   "execution_count": null,
   "metadata": {},
   "outputs": [],
   "source": [
    "import plotly.express as px\n",
    "\n",
    "umap = UMAP(n_components=2, random_state=42)\n",
    "umap_all = umap.fit_transform(\n",
    "    all_features_df.drop(columns=[\"fid\", \"iid\", \"dim\", \"class\", \"ela_level.lda_qda_25\"])\n",
    ")\n",
    "umap_df = pd.DataFrame(umap_all, columns=[\"UMAP-1\", \"UMAP-2\"])\n",
    "umap_df[\"class\"] = all_features_df[\"class\"].values\n",
    "color_map = {\n",
    "    \"distribution-optimization\": \"red\",\n",
    "    \"low-conditioning\": \"green\",\n",
    "    \"separable\": \"pink\",\n",
    "    \"unimodal\": \"orange\",\n",
    "    \"multimodal-adequate\": \"blue\",\n",
    "    \"multimodal-weak\": \"purple\",\n",
    "}\n",
    "\n",
    "fig = px.scatter(\n",
    "    umap_df,\n",
    "    x=\"UMAP-1\",\n",
    "    y=\"UMAP-2\",\n",
    "    color=\"class\",\n",
    "    title=\"UMAP Projection of ELA Features with Problem Class Labels\",\n",
    "    width=1200,  # width in pixels\n",
    "    height=1200,  # height in pixels\n",
    "    color_discrete_map=color_map,\n",
    ")\n",
    "\n",
    "\n",
    "fig.show()"
   ]
  },
  {
   "cell_type": "markdown",
   "metadata": {},
   "source": [
    "Test to check if the model is correct:"
   ]
  },
  {
   "cell_type": "code",
   "execution_count": null,
   "metadata": {},
   "outputs": [],
   "source": [
    "from sklearn.pipeline import make_pipeline\n",
    "from sklearn.feature_selection import SelectKBest, f_classif\n",
    "from sklearn.preprocessing import StandardScaler\n",
    "from sklearn.ensemble import RandomForestClassifier\n",
    "from sklearn.metrics import confusion_matrix\n",
    "\n",
    "X = bbob_features_df.drop(columns=[\"ela_level.lda_qda_25\"])\n",
    "SELECTED_IID = 20\n",
    "X_train = X[X[\"iid\"] != SELECTED_IID]\n",
    "y_train = [get_problem_class(fid) for fid in X_train[\"fid\"]]\n",
    "X_train = X_train.drop(columns=[\"fid\", \"iid\"])\n",
    "X_test = X[X[\"iid\"] == SELECTED_IID]\n",
    "y_test = [get_problem_class(fid) for fid in X_test[\"fid\"]]\n",
    "X_test = X_test.drop(columns=[\"fid\", \"iid\"])\n",
    "\n",
    "assert len(X_train) == len(y_train)\n",
    "assert \"class\" not in X_train.columns\n",
    "assert \"class\" not in X_test.columns\n",
    "\n",
    "pipeline = make_pipeline(\n",
    "    StandardScaler(),\n",
    "    SelectKBest(f_classif, k=10),\n",
    "    RandomForestClassifier(random_state=42),\n",
    ")\n",
    "\n",
    "pipeline.fit(X_train, y_train)\n",
    "y_pred = pipeline.predict(X_test)\n",
    "confusion_matrix(y_test, y_pred)"
   ]
  },
  {
   "cell_type": "markdown",
   "metadata": {},
   "source": [
    "Predicting problem class:"
   ]
  },
  {
   "cell_type": "code",
   "execution_count": null,
   "metadata": {},
   "outputs": [],
   "source": [
    "from sklearn.pipeline import make_pipeline\n",
    "from sklearn.feature_selection import SelectKBest, f_classif\n",
    "from sklearn.preprocessing import StandardScaler\n",
    "from sklearn.ensemble import RandomForestClassifier\n",
    "\n",
    "X_train = bbob_features_df.drop(columns=[\"fid\", \"iid\", \"ela_level.lda_qda_25\"])\n",
    "y_train = [get_problem_class(fid) for fid in bbob_features_df[\"fid\"]]\n",
    "X_test = gaussian_features_df.drop(columns=[\"fid\", \"iid\", \"ela_level.lda_qda_25\"])[X_train.columns]\n",
    "\n",
    "assert len(X_train) == len(y_train)\n",
    "assert \"class\" not in X_train.columns\n",
    "assert \"class\" not in X_test.columns\n",
    "\n",
    "pipeline = make_pipeline(\n",
    "    StandardScaler(),\n",
    "    SelectKBest(f_classif, k=10),\n",
    "    RandomForestClassifier(random_state=42),\n",
    ")\n",
    "\n",
    "pipeline.fit(X_train, y_train)\n",
    "pipeline.predict(X_test)"
   ]
  },
  {
   "cell_type": "markdown",
   "metadata": {},
   "source": [
    "Predicting fid:"
   ]
  },
  {
   "cell_type": "code",
   "execution_count": null,
   "metadata": {},
   "outputs": [],
   "source": [
    "from sklearn.pipeline import make_pipeline\n",
    "from sklearn.feature_selection import SelectKBest, f_classif\n",
    "from sklearn.preprocessing import StandardScaler\n",
    "from sklearn.ensemble import RandomForestClassifier\n",
    "\n",
    "X_train = bbob_features_df.drop(columns=[\"fid\", \"iid\", \"ela_level.lda_qda_25\"])\n",
    "y_train = bbob_features_df[\"fid\"]\n",
    "X_test = gaussian_features_df.drop(columns=[\"fid\", \"iid\", \"ela_level.lda_qda_25\"])[X_train.columns]\n",
    "\n",
    "assert len(X_train) == len(y_train)\n",
    "assert \"class\" not in X_train.columns\n",
    "assert \"class\" not in X_test.columns\n",
    "assert \"fid\" not in X_train.columns\n",
    "assert \"fid\" not in X_test.columns\n",
    "\n",
    "pipeline = make_pipeline(\n",
    "    StandardScaler(),\n",
    "    SelectKBest(f_classif, k=10),\n",
    "    RandomForestClassifier(random_state=42),\n",
    ")\n",
    "\n",
    "pipeline.fit(X_train, y_train)\n",
    "pipeline.predict(X_test)"
   ]
  }
 ],
 "metadata": {
  "kernelspec": {
   "display_name": ".venv",
   "language": "python",
   "name": "python3"
  },
  "language_info": {
   "codemirror_mode": {
    "name": "ipython",
    "version": 3
   },
   "file_extension": ".py",
   "mimetype": "text/x-python",
   "name": "python",
   "nbconvert_exporter": "python",
   "pygments_lexer": "ipython3"
  }
 },
 "nbformat": 4,
 "nbformat_minor": 2
}
