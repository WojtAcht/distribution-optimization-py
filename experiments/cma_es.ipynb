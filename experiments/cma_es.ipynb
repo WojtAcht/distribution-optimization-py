{
 "cells": [
  {
   "cell_type": "code",
   "execution_count": null,
   "metadata": {},
   "outputs": [],
   "source": [
    "from experiments.datasets import DATASETS\n",
    "from distribution_optimization_py.problem import ScaledGaussianMixtureProblem\n",
    "import random \n",
    "import numpy as np\n",
    "from cma import CMAEvolutionStrategy\n",
    "import numpy as np"
   ]
  },
  {
   "cell_type": "code",
   "execution_count": null,
   "metadata": {},
   "outputs": [],
   "source": [
    "dataset = DATASETS[1]\n",
    "budget = 10000\n",
    "sigma = 1.0\n",
    "for seed in range(1, 31):\n",
    "    random.seed(seed)\n",
    "    np.random.seed(seed)\n",
    "    problem = ScaledGaussianMixtureProblem(dataset.data, dataset.nr_of_modes)\n",
    "    x0 = problem.initialize() # np.random.rand(problem.lower.shape[0]) \n",
    "    fitness_values = []\n",
    "    evaluations = 0\n",
    "    cma_es = CMAEvolutionStrategy(\n",
    "        x0,\n",
    "        sigma,\n",
    "        inopts={\n",
    "            \"bounds\": [[0] * problem.lower.shape[0], [1] * problem.lower.shape[0]],\n",
    "            \"verbose\": -9,\n",
    "            \"seed\": seed\n",
    "        },\n",
    "    )\n",
    "    cma_es.optimize(problem, iterations=budget // 10)\n",
    "    assert cma_es.result.evaluations <= budget, f\"Budget exceeded: {cma_es.result.evaluations} > {budget}\"\n",
    "    print(f\"Result: {cma_es.result[1]}, evaluations: {cma_es.result.evaluations}\")"
   ]
  }
 ],
 "metadata": {
  "kernelspec": {
   "display_name": ".venv",
   "language": "python",
   "name": "python3"
  },
  "language_info": {
   "codemirror_mode": {
    "name": "ipython",
    "version": 3
   },
   "file_extension": ".py",
   "mimetype": "text/x-python",
   "name": "python",
   "nbconvert_exporter": "python",
   "pygments_lexer": "ipython3"
  }
 },
 "nbformat": 4,
 "nbformat_minor": 2
}
