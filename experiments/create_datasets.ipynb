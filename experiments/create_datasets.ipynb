{
 "cells": [
  {
   "cell_type": "markdown",
   "metadata": {},
   "source": [
    "IRIS ICA:"
   ]
  },
  {
   "cell_type": "code",
   "execution_count": null,
   "metadata": {},
   "outputs": [],
   "source": [
    "from sklearn import datasets\n",
    "from sklearn.decomposition import FastICA\n",
    "\n",
    "iris = datasets.load_iris()\n",
    "iris_transformed = FastICA(n_components=1).fit_transform(iris.data).reshape(-1)\n",
    "pd.DataFrame({\"value\": iris_transformed}).to_csv(\"../data/iris_ica.csv\")"
   ]
  },
  {
   "cell_type": "markdown",
   "metadata": {},
   "source": [
    "Textbook:"
   ]
  },
  {
   "cell_type": "code",
   "execution_count": null,
   "metadata": {},
   "outputs": [],
   "source": [
    "import numpy as np \n",
    "import pandas as pd \n",
    "\n",
    "random_state = np.random.RandomState(seed=1)\n",
    "textbook_data = np.concatenate(\n",
    "    [\n",
    "        random_state.normal(-1, 1.5, 350),\n",
    "        random_state.normal(0, 1, 500),\n",
    "        random_state.normal(3, 0.5, 150),\n",
    "    ]\n",
    ")\n",
    "pd.DataFrame({\"value\": textbook_data}).to_csv(\"../data/textbook_1k.csv\")"
   ]
  },
  {
   "cell_type": "markdown",
   "metadata": {},
   "source": [
    "Atmosphere:"
   ]
  },
  {
   "cell_type": "code",
   "execution_count": null,
   "metadata": {},
   "outputs": [],
   "source": [
    "random_state = np.random.RandomState(seed=1)\n",
    "atmosphere_data = np.concatenate(\n",
    "    [\n",
    "        random_state.normal(-2.4, 0.05, 2000),\n",
    "        random_state.normal(-1.0, 0.07, 1000),\n",
    "        random_state.normal(0.0, 0.02, 1000),\n",
    "        random_state.normal(1.0, 0.06, 3000),\n",
    "        random_state.normal(2.4, 0.1, 3000),\n",
    "    ]\n",
    ")\n",
    "pd.DataFrame({\"value\": atmosphere_data}).to_csv(\"../data/atmosphere_data.csv\")"
   ]
  }
 ],
 "metadata": {
  "kernelspec": {
   "display_name": ".venv",
   "language": "python",
   "name": "python3"
  },
  "language_info": {
   "codemirror_mode": {
    "name": "ipython",
    "version": 3
   },
   "file_extension": ".py",
   "mimetype": "text/x-python",
   "name": "python",
   "nbconvert_exporter": "python",
   "pygments_lexer": "ipython3"
  }
 },
 "nbformat": 4,
 "nbformat_minor": 2
}
