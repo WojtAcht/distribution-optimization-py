{
 "cells": [
  {
   "cell_type": "code",
   "execution_count": 1,
   "metadata": {},
   "outputs": [],
   "source": [
    "from experiments.datasets import DATASETS, Solution\n",
    "from distribution_optimization_py.problem import ScaledGaussianMixtureProblem\n",
    "import random \n",
    "import numpy as np\n",
    "from cma import fmin"
   ]
  },
  {
   "cell_type": "code",
   "execution_count": 2,
   "metadata": {},
   "outputs": [],
   "source": [
    "config = {\n",
    "    \"popsize\": 26,\n",
    "    \"sigma0\": 5.33360647287386,\n",
    "    \"incpopsize\": 1,\n",
    "    \"tolfun\": 5.6629044577000325e-09\n",
    "}"
   ]
  },
  {
   "cell_type": "code",
   "execution_count": null,
   "metadata": {},
   "outputs": [],
   "source": [
    "dataset_to_solutions = {}\n",
    "for dataset in DATASETS:\n",
    "    dataset_to_solutions[dataset.name] = {}\n",
    "    for budget in [1000, 2000, 5000, 10000, 15000]:\n",
    "        dataset_to_solutions[dataset.name][budget] = []\n",
    "        for seed in range(1, 31):\n",
    "            np.random.seed(seed)\n",
    "            random.seed(seed)\n",
    "            problem = ScaledGaussianMixtureProblem(dataset.data, dataset.nr_of_modes)\n",
    "            start = problem.initialize_warm_start()\n",
    "            options = {\n",
    "                \"bounds\": [problem.lower, problem.upper],\n",
    "                \"verbose\": -9,\n",
    "                \"maxfevals\": budget,\n",
    "                \"popsize\": config[\"popsize\"],\n",
    "                \"tolfun\": config[\"tolfun\"],\n",
    "                \"seed\": seed\n",
    "            }\n",
    "            res = fmin(\n",
    "                problem,\n",
    "                start,\n",
    "                config[\"sigma0\"],\n",
    "                options=options,\n",
    "                bipop=True,\n",
    "                restart_from_best=True,\n",
    "                restarts=10,\n",
    "                incpopsize=config[\"incpopsize\"],\n",
    "            )\n",
    "            genome, fitness = res[0], res[1]\n",
    "            scaled_genome = problem.reals_to_internal(genome)\n",
    "            solution = Solution(\n",
    "                fitness,\n",
    "                genome,\n",
    "                scaled_genome,\n",
    "            )\n",
    "            dataset_to_solutions[dataset.name][budget].append(solution)"
   ]
  },
  {
   "cell_type": "code",
   "execution_count": null,
   "metadata": {},
   "outputs": [],
   "source": [
    "for dataset_name in dataset_to_solutions:\n",
    "    for budget in dataset_to_solutions[dataset_name]:\n",
    "        solutions = np.array(\n",
    "            [x.scaled_genome for x in dataset_to_solutions[dataset_name][budget]]\n",
    "        )\n",
    "        np.savetxt(f\"results_cma_es_bipop/{dataset_name}_solutions_{budget}.csv\", solutions, delimiter=\",\")"
   ]
  }
 ],
 "metadata": {
  "kernelspec": {
   "display_name": ".venv",
   "language": "python",
   "name": "python3"
  },
  "language_info": {
   "codemirror_mode": {
    "name": "ipython",
    "version": 3
   },
   "file_extension": ".py",
   "mimetype": "text/x-python",
   "name": "python",
   "nbconvert_exporter": "python",
   "pygments_lexer": "ipython3",
   "version": "3.10.7"
  }
 },
 "nbformat": 4,
 "nbformat_minor": 2
}
