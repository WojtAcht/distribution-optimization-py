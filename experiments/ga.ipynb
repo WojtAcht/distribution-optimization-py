{
 "cells": [
  {
   "cell_type": "code",
   "execution_count": null,
   "metadata": {},
   "outputs": [],
   "source": [
    "from experiments.datasets import DATASETS\n",
    "from distribution_optimization_py.problem import ScaledGaussianMixtureProblem\n",
    "import random \n",
    "import numpy as np\n",
    "from leap_ec.representation import Representation\n",
    "\n",
    "from distribution_optimization_py.ga_style_operators import GAStyleEA\n",
    "from leap_ec.problem import FunctionProblem\n",
    "from pyhms.problem import EvalCutoffProblem"
   ]
  },
  {
   "cell_type": "code",
   "execution_count": null,
   "metadata": {},
   "outputs": [],
   "source": [
    "dataset = DATASETS[1]\n",
    "for seed in range(1, 31):\n",
    "    random.seed(seed)\n",
    "    np.random.seed(seed)\n",
    "    problem = ScaledGaussianMixtureProblem(dataset.data, dataset.nr_of_modes)\n",
    "    bounds = np.array([[0, 1]] * problem.lower.shape[0])\n",
    "\n",
    "    function_problem = FunctionProblem(problem, maximize=False)\n",
    "    n_evaluations = 10000\n",
    "    pop_size = 50\n",
    "    eval_cutoff_problem = EvalCutoffProblem(function_problem, n_evaluations)\n",
    "    ea = GAStyleEA(\n",
    "        generations=1,\n",
    "        problem=eval_cutoff_problem,\n",
    "        bounds=bounds,\n",
    "        pop_size=pop_size,\n",
    "        k_elites=5,\n",
    "        p_mutation=0.8,\n",
    "        p_crossover=0.9,\n",
    "        representation=Representation(\n",
    "            initialize=lambda: problem.initialize()\n",
    "        ),\n",
    "    )\n",
    "    best_fitness = np.inf\n",
    "    all_populations = []\n",
    "    population = None\n",
    "    for i in range(n_evaluations // pop_size):\n",
    "        population = ea.run(population)\n",
    "        all_populations.extend(population)\n",
    "    print(f\"Seed: {seed} Fitness: {max(all_populations).fitness}\")"
   ]
  }
 ],
 "metadata": {
  "kernelspec": {
   "display_name": ".venv",
   "language": "python",
   "name": "python3"
  },
  "language_info": {
   "codemirror_mode": {
    "name": "ipython",
    "version": 3
   },
   "file_extension": ".py",
   "mimetype": "text/x-python",
   "name": "python",
   "nbconvert_exporter": "python",
   "pygments_lexer": "ipython3"
  }
 },
 "nbformat": 4,
 "nbformat_minor": 2
}
